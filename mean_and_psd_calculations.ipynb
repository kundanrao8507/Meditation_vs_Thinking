{
 "cells": [
  {
   "cell_type": "code",
   "execution_count": 1,
   "id": "82f23a27",
   "metadata": {},
   "outputs": [],
   "source": [
    "import os\n",
    "import pandas as pd\n",
    "import mne\n",
    "from scipy.signal import welch"
   ]
  },
  {
   "cell_type": "code",
   "execution_count": 2,
   "id": "edbf25d3",
   "metadata": {},
   "outputs": [],
   "source": [
    "def bdf_to_csv(bdf_file):\n",
    "    raw = mne.io.read_raw_bdf(bdf_file, preload=True)\n",
    "    eeg_data = raw.get_data()\n",
    "    channel_names = raw.ch_names\n",
    "    time_index = raw.times\n",
    "    \n",
    "    df = pd.DataFrame(data=eeg_data.T, columns=channel_names, index=time_index)\n",
    "    req_channels = ['O1', 'O2', 'F3', 'F4', 'C3', 'C4', 'Fp1', 'Fp2']\n",
    "    df = df[req_channels]\n",
    "    \n",
    "    segment_size = 1024\n",
    "    desired_size = 606\n",
    "    num_segments = len(df) // segment_size\n",
    "    \n",
    "    reduced_df = pd.DataFrame(columns=df.columns)\n",
    "    \n",
    "    for i in range(num_segments):\n",
    "        start_idx = i * segment_size\n",
    "        end_idx = (i + 1) * segment_size\n",
    "        segment_data = df.iloc[start_idx:end_idx]\n",
    "        mean_values = segment_data.mean()\n",
    "        reduced_df = reduced_df.append(mean_values, ignore_index=True)\n",
    "    reduced_df = reduced_df.iloc[:desired_size]\n",
    "    \n",
    "    df = reduced_df\n",
    "\n",
    "    file_name = os.path.splitext(os.path.basename(bdf_file))[0]\n",
    "    output_csv_file = f\"./eeg_data/{file_name}.csv\"\n",
    "    \n",
    "    df.to_csv(output_csv_file)"
   ]
  },
  {
   "cell_type": "code",
   "execution_count": 3,
   "id": "eb32c239",
   "metadata": {},
   "outputs": [],
   "source": [
    "%%capture\n",
    "\n",
    "data_dir = './raw_data/'\n",
    "\n",
    "for filename in os.listdir(data_dir):\n",
    "    if filename.endswith('.bdf'):\n",
    "        eeg_data = bdf_to_csv(os.path.join(data_dir, filename))"
   ]
  },
  {
   "cell_type": "code",
   "execution_count": 4,
   "id": "df49530c",
   "metadata": {},
   "outputs": [],
   "source": [
    "def extract_mean_and_psd_mean(csv_file):\n",
    "    new_df = pd.DataFrame(columns=['channel', 'mean', 'psd_mean'])\n",
    "    req_channels = ['O1', 'O2', 'F3', 'F4', 'C3', 'C4', 'Fp1', 'Fp2']\n",
    "    df = pd.read_csv(csv_file)\n",
    "    for channel in df.columns:\n",
    "        if channel not in req_channels:\n",
    "            continue\n",
    "        mean_val = df[channel].mean()\n",
    "        _, psd = welch(df[channel], fs=256)\n",
    "        new_rec = {\n",
    "            'channel': channel,\n",
    "            'mean': mean_val,\n",
    "            'psd_mean': psd.mean()\n",
    "        }\n",
    "        new_df = new_df.append(new_rec, ignore_index=True)\n",
    "    return new_df"
   ]
  },
  {
   "cell_type": "code",
   "execution_count": 5,
   "id": "b8764692",
   "metadata": {},
   "outputs": [],
   "source": [
    "new_data_dir = './eeg_data/'\n",
    "dest_data_dir = './mean_and_psd/'"
   ]
  },
  {
   "cell_type": "code",
   "execution_count": 6,
   "id": "81058093",
   "metadata": {},
   "outputs": [],
   "source": [
    "%%capture\n",
    "\n",
    "for csv_file in os.listdir(new_data_dir):\n",
    "    file = os.path.join(new_data_dir, csv_file)\n",
    "    df = extract_mean_and_psd_mean(file)\n",
    "    dest = os.path.join(dest_data_dir, csv_file)\n",
    "    print(dest)\n",
    "    df.to_csv(dest)"
   ]
  },
  {
   "cell_type": "code",
   "execution_count": 9,
   "id": "7ff21ab6",
   "metadata": {},
   "outputs": [],
   "source": [
    "data_dir = './mean_and_psd/'\n",
    "\n",
    "def generate_labels(labels_df):\n",
    "    for file in os.listdir(data_dir):\n",
    "        task = file.split('_')[1].split('.')[0].split('-')[1]\n",
    "        label = 0\n",
    "        if \"med1\" in task:\n",
    "            label = 0\n",
    "        \n",
    "        elif \"med2\" in task:\n",
    "            label = 1\n",
    "        \n",
    "        elif \"think1\" in task:\n",
    "            label = 2\n",
    "        \n",
    "        elif \"think2\" in task:\n",
    "            label = 3\n",
    "        \n",
    "        task_label = {\n",
    "            'label': label,\n",
    "            'task': task\n",
    "        }\n",
    "        labels_df = labels_df.append(task_label, ignore_index=True)\n",
    "        print(task)\n",
    "    \n",
    "    return labels_df"
   ]
  },
  {
   "cell_type": "code",
   "execution_count": 10,
   "id": "c22be1a3",
   "metadata": {},
   "outputs": [
    {
     "name": "stdout",
     "output_type": "stream",
     "text": [
      "med1breath\n",
      "med2\n",
      "think1\n",
      "think2\n",
      "med1breath\n",
      "med2\n",
      "think2\n"
     ]
    },
    {
     "name": "stderr",
     "output_type": "stream",
     "text": [
      "C:\\Users\\Siddarth\\AppData\\Local\\Temp\\ipykernel_23168\\1582262698.py:23: FutureWarning: The frame.append method is deprecated and will be removed from pandas in a future version. Use pandas.concat instead.\n",
      "  labels_df = labels_df.append(task_label, ignore_index=True)\n",
      "C:\\Users\\Siddarth\\AppData\\Local\\Temp\\ipykernel_23168\\1582262698.py:23: FutureWarning: The frame.append method is deprecated and will be removed from pandas in a future version. Use pandas.concat instead.\n",
      "  labels_df = labels_df.append(task_label, ignore_index=True)\n",
      "C:\\Users\\Siddarth\\AppData\\Local\\Temp\\ipykernel_23168\\1582262698.py:23: FutureWarning: The frame.append method is deprecated and will be removed from pandas in a future version. Use pandas.concat instead.\n",
      "  labels_df = labels_df.append(task_label, ignore_index=True)\n",
      "C:\\Users\\Siddarth\\AppData\\Local\\Temp\\ipykernel_23168\\1582262698.py:23: FutureWarning: The frame.append method is deprecated and will be removed from pandas in a future version. Use pandas.concat instead.\n",
      "  labels_df = labels_df.append(task_label, ignore_index=True)\n",
      "C:\\Users\\Siddarth\\AppData\\Local\\Temp\\ipykernel_23168\\1582262698.py:23: FutureWarning: The frame.append method is deprecated and will be removed from pandas in a future version. Use pandas.concat instead.\n",
      "  labels_df = labels_df.append(task_label, ignore_index=True)\n",
      "C:\\Users\\Siddarth\\AppData\\Local\\Temp\\ipykernel_23168\\1582262698.py:23: FutureWarning: The frame.append method is deprecated and will be removed from pandas in a future version. Use pandas.concat instead.\n",
      "  labels_df = labels_df.append(task_label, ignore_index=True)\n",
      "C:\\Users\\Siddarth\\AppData\\Local\\Temp\\ipykernel_23168\\1582262698.py:23: FutureWarning: The frame.append method is deprecated and will be removed from pandas in a future version. Use pandas.concat instead.\n",
      "  labels_df = labels_df.append(task_label, ignore_index=True)\n"
     ]
    },
    {
     "data": {
      "text/html": [
       "<div>\n",
       "<style scoped>\n",
       "    .dataframe tbody tr th:only-of-type {\n",
       "        vertical-align: middle;\n",
       "    }\n",
       "\n",
       "    .dataframe tbody tr th {\n",
       "        vertical-align: top;\n",
       "    }\n",
       "\n",
       "    .dataframe thead th {\n",
       "        text-align: right;\n",
       "    }\n",
       "</style>\n",
       "<table border=\"1\" class=\"dataframe\">\n",
       "  <thead>\n",
       "    <tr style=\"text-align: right;\">\n",
       "      <th></th>\n",
       "      <th>label</th>\n",
       "      <th>task</th>\n",
       "    </tr>\n",
       "  </thead>\n",
       "  <tbody>\n",
       "    <tr>\n",
       "      <th>0</th>\n",
       "      <td>0</td>\n",
       "      <td>med1breath</td>\n",
       "    </tr>\n",
       "    <tr>\n",
       "      <th>1</th>\n",
       "      <td>1</td>\n",
       "      <td>med2</td>\n",
       "    </tr>\n",
       "    <tr>\n",
       "      <th>2</th>\n",
       "      <td>2</td>\n",
       "      <td>think1</td>\n",
       "    </tr>\n",
       "    <tr>\n",
       "      <th>3</th>\n",
       "      <td>3</td>\n",
       "      <td>think2</td>\n",
       "    </tr>\n",
       "    <tr>\n",
       "      <th>4</th>\n",
       "      <td>0</td>\n",
       "      <td>med1breath</td>\n",
       "    </tr>\n",
       "    <tr>\n",
       "      <th>5</th>\n",
       "      <td>1</td>\n",
       "      <td>med2</td>\n",
       "    </tr>\n",
       "    <tr>\n",
       "      <th>6</th>\n",
       "      <td>3</td>\n",
       "      <td>think2</td>\n",
       "    </tr>\n",
       "  </tbody>\n",
       "</table>\n",
       "</div>"
      ],
      "text/plain": [
       "  label        task\n",
       "0     0  med1breath\n",
       "1     1        med2\n",
       "2     2      think1\n",
       "3     3      think2\n",
       "4     0  med1breath\n",
       "5     1        med2\n",
       "6     3      think2"
      ]
     },
     "execution_count": 10,
     "metadata": {},
     "output_type": "execute_result"
    }
   ],
   "source": [
    "labels_df = pd.DataFrame(columns=['label', 'task'])\n",
    "generate_labels(labels_df)"
   ]
  },
  {
   "cell_type": "code",
   "execution_count": null,
   "id": "aacbd7b4",
   "metadata": {},
   "outputs": [],
   "source": []
  },
  {
   "cell_type": "code",
   "execution_count": null,
   "id": "ecc3b876",
   "metadata": {},
   "outputs": [],
   "source": []
  }
 ],
 "metadata": {
  "kernelspec": {
   "display_name": "Python 3 (ipykernel)",
   "language": "python",
   "name": "python3"
  },
  "language_info": {
   "codemirror_mode": {
    "name": "ipython",
    "version": 3
   },
   "file_extension": ".py",
   "mimetype": "text/x-python",
   "name": "python",
   "nbconvert_exporter": "python",
   "pygments_lexer": "ipython3",
   "version": "3.9.13"
  }
 },
 "nbformat": 4,
 "nbformat_minor": 5
}
