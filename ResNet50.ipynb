{
 "cells": [
  {
   "cell_type": "code",
   "execution_count": 11,
   "id": "7e72648e",
   "metadata": {},
   "outputs": [],
   "source": [
    "%%capture\n",
    "import mne\n",
    "import numpy as np\n",
    "import matplotlib.pyplot as plt\n",
    "import tensorflow as tf\n",
    "from tensorflow.keras.models import Sequential\n",
    "from tensorflow.keras.layers import Conv2D, MaxPooling2D, Flatten, Dense, Dropout\n",
    "from sklearn.model_selection import train_test_split\n",
    "import os\n",
    "import pandas as pd\n",
    "from PIL import Image\n",
    "from sklearn.model_selection import train_test_split\n",
    "from sklearn.ensemble import RandomForestClassifier\n",
    "from sklearn.metrics import classification_report\n",
    "from scipy.signal import welch\n",
    "from pyts.image import GramianAngularField"
   ]
  },
  {
   "cell_type": "code",
   "execution_count": 12,
   "id": "806c13f6",
   "metadata": {},
   "outputs": [],
   "source": [
    "%%capture\n",
    "#Convert to DataFrame\n",
    "def convert_bdf_to_dataframe(bdf_filename):\n",
    "    raw_data = mne.io.read_raw_bdf(bdf_filename, preload=True)\n",
    "    raw_data._data = raw_data._data ** 2\n",
    "    \n",
    "    eeg_data_raw = raw_data.get_data()\n",
    "    channel_names = raw_data.ch_names\n",
    "    time_index = raw_data.times\n",
    "    eeg_data = pd.DataFrame(data=eeg_data_raw.T, columns=channel_names, index=time_index)\n",
    "    col_names = ['O1', 'O2', 'F3', 'F4', 'C3' ,'C4' , 'Fp1', 'Fp2']\n",
    "    eeg_data = eeg_data[col_names]\n",
    "    #segment_size = 1024\n",
    "    #num_segments = len(eeg_data) // segment_size\n",
    "    #reduced_df = pd.DataFrame(columns=eeg_data.columns)\n",
    "    #for i in range(num_segments):\n",
    "    #    start_idx = i * segment_size\n",
    "    #    end_idx = (i + 1) * segment_size\n",
    "    #    segment_data = eeg_data.iloc[start_idx:end_idx]    \n",
    "    #    mean_values = segment_data.mean()\n",
    "    #    reduced_df = reduced_df.append(mean_values, ignore_index=True)\n",
    "\n",
    "    return eeg_data"
   ]
  },
  {
   "cell_type": "code",
   "execution_count": 13,
   "id": "415ff059",
   "metadata": {},
   "outputs": [],
   "source": [
    "%%capture\n",
    "# Define a function to extract labels from filenames\n",
    "def extract_label_from_filename(filename):\n",
    "    # Assuming filenames are in the format: subject_task.bdf\n",
    "    task = filename.split('_')[1].split('.')[0]\n",
    "    sub = filename.split('_')[0]\n",
    "    return task, sub"
   ]
  },
  {
   "cell_type": "code",
   "execution_count": 14,
   "id": "90303637",
   "metadata": {},
   "outputs": [],
   "source": [
    "%%capture\n",
    "\n",
    "\n",
    "# Example code to create a spectrogram image from each EEG channel\n",
    "def eeg_channel_to_spectrogram(eeg_data, channel_name, ch_idx):\n",
    "    #plt.specgram(channel_data, NFFT=256, Fs=1000, noverlap=128)\n",
    "    #plt.axis('off')  # Turn off axis\n",
    "    #plt.savefig(f'{ch_idx}_channel_spectrogram.png', bbox_inches='tight', pad_inches=0)\n",
    "    method = 'difference'\n",
    "    gaf = GramianAngularField(image_size=32, method=method)\n",
    "    channel_data = eeg_data[channel_name].values\n",
    "    channel_data_1d = channel_data.reshape(-1, 32)\n",
    "    channel_gaf = gaf.fit_transform(channel_data_1d)\n",
    "    #plt.imshow(channel_gaf[0], cmap='viridis')\n",
    "    plt.imsave(f'{channel_name}_channel_spectrogram.png', channel_gaf[0], cmap='viridis')\n",
    "    plt.close()\n",
    "    image = Image.open(f'{channel_name}_channel_spectrogram.png')\n",
    "    path = f'{channel_name}_channel_spectrogram.png'\n",
    "    return image, path"
   ]
  },
  {
   "cell_type": "code",
   "execution_count": 15,
   "id": "4c4aa791",
   "metadata": {},
   "outputs": [],
   "source": [
    "%%capture\n",
    "\n",
    "from PIL import Image\n",
    "data_dir = '../Rishikest_MIT_Dataset/'  # Replace with the path to your .bdf data directory (./Dataset-2/)\n",
    "eeg_channel_images = []\n",
    "subject_data = {}"
   ]
  },
  {
   "cell_type": "code",
   "execution_count": 16,
   "id": "5101b8a6",
   "metadata": {},
   "outputs": [],
   "source": [
    "%%capture\n",
    "# Load and preprocess the data\n",
    "\n",
    "output_dir_med = './output_images/Meditation'\n",
    "output_dir_think = './output_images/Thinking'\n",
    "os.makedirs(output_dir_med, exist_ok=True)\n",
    "os.makedirs(output_dir_think, exist_ok=True)\n",
    "i = 197\n",
    "\n",
    "# Loop through all files in the directory\n",
    "for filename in os.listdir(data_dir):\n",
    "    if filename.endswith('.bdf'):\n",
    "        # Convert the .bdf file to a DataFrame\n",
    "        eeg_data = convert_bdf_to_dataframe(os.path.join(data_dir, filename))\n",
    "        \n",
    "        # Extract labels from filenames\n",
    "        label, sub = extract_label_from_filename(filename)\n",
    "        Dirs = ''\n",
    "        subject = f'sub{i}'\n",
    "        if 'med'in label:\n",
    "#             Dirs = f'./output_images/{subject}_Med'\n",
    "            Dirs = f'{output_dir_med}/{subject}'\n",
    "            os.makedirs(Dirs, exist_ok=True)\n",
    "        else:\n",
    "#             Dirs = f'./output_images/{subject}_Think'\n",
    "            Dirs = f'{output_dir_think}/{subject}'\n",
    "            os.makedirs(Dirs, exist_ok=True)\n",
    "        \n",
    "        \n",
    "        for channel_idx in range(eeg_data.shape[1]):\n",
    "            channel_name = eeg_data.columns[channel_idx]\n",
    "            #channel_data = eeg_data.iloc[:,channel_idx]\n",
    "            #channel_data = eeg_data[channel_name]\n",
    "            #channel_image, path = eeg_channel_to_spectrogram(channel_data, eeg_data.columns[channel_idx])\n",
    "            channel_image, path = eeg_channel_to_spectrogram(eeg_data, channel_name, channel_idx)\n",
    "            image_path = os.path.join(Dirs, path)\n",
    "            print(image_path)\n",
    "            channel_image.save(image_path)\n",
    "#             eeg_channel_images.append(image_filename)\n",
    "            if subject not in subject_data:\n",
    "                subject_data[subject] = []\n",
    "            #subject_data[subject].append(channel_data)\n",
    "            subject_data[subject].append(eeg_data[channel_name])\n",
    "        i+=1 "
   ]
  },
  {
   "cell_type": "code",
   "execution_count": 1,
   "id": "2b3c7223",
   "metadata": {},
   "outputs": [],
   "source": [
    "import tensorflow as tf\n",
    "from tensorflow.keras.preprocessing.image import ImageDataGenerator\n",
    "from sklearn.model_selection import train_test_split\n"
   ]
  },
  {
   "cell_type": "code",
   "execution_count": 2,
   "id": "5b13389f",
   "metadata": {},
   "outputs": [],
   "source": [
    "data_directory = \"./train_test_split/\"\n",
    "image_size = (256, 256)  # Adjust to your desired image size\n",
    "batch_size = 16  # Adjust as needed\n",
    "# validation_split = 0.1  # 20% of the data for validation\n",
    "# test_split = 0.1  # 10% of the data for testing\n"
   ]
  },
  {
   "cell_type": "code",
   "execution_count": 3,
   "id": "12590c58",
   "metadata": {},
   "outputs": [],
   "source": [
    "# subfolder_names = os.listdir(data_directory)\n",
    "\n",
    "# num_classes = 2  # Specify the number of classes (in this case, 2)\n",
    "\n",
    "# # Split data into train, validation, and test sets\n",
    "# # subfolder_names = os.listdir(data_directory)\n",
    "# # train_data, test_data = train_test_split(\n",
    "# #     subfolder_names,\n",
    "# #     test_size=test_split,\n",
    "# #     random_state=42,\n",
    "# #     stratify=None  # No need to stratify with only two classes\n",
    "# # )\n",
    "\n",
    "# # train_data, val_data = train_test_split(\n",
    "# #     train_data,\n",
    "# #     test_size=validation_split,\n",
    "# #     random_state=42,\n",
    "# #     stratify=None  # No need to stratify with only two classes\n",
    "# # )\n",
    "\n",
    "# # Create data generators\n",
    "# train_datagen = ImageDataGenerator(\n",
    "#     rescale=1./255,\n",
    "#     rotation_range=20,\n",
    "#     width_shift_range=0.2,\n",
    "#     height_shift_range=0.2,\n",
    "#     shear_range=0.2,\n",
    "#     zoom_range=0.2,\n",
    "#     horizontal_flip=True,\n",
    "#     fill_mode='nearest'\n",
    "# )\n",
    "\n",
    "# train_generator = train_datagen.flow_from_directory(\n",
    "#     data_directory,\n",
    "#     target_size=image_size,\n",
    "#     batch_size=batch_size,\n",
    "#     class_mode='binary',  # Use 'binary' for binary classification\n",
    "#     subset='training',\n",
    "#     shuffle=True  # Shuffle training data\n",
    "# )\n",
    "\n",
    "# validation_generator = train_datagen.flow_from_directory(\n",
    "#     data_directory,\n",
    "#     target_size=image_size,\n",
    "#     batch_size=batch_size,\n",
    "#     class_mode='binary',  # Use 'binary' for binary classification\n",
    "#     subset='validation',\n",
    "#     shuffle=False  # Do not shuffle validation data\n",
    "# )\n",
    "\n",
    "# test_datagen = ImageDataGenerator(rescale=1./255)\n",
    "\n",
    "# test_generator = test_datagen.flow_from_directory(\n",
    "#     data_directory,\n",
    "#     target_size=image_size,\n",
    "#     batch_size=batch_size,\n",
    "#     class_mode='binary',  # Use 'binary' for binary classification\n",
    "#     subset=None,  # Test set should not be a subset of train/val\n",
    "#     shuffle=False  # Do not shuffle test data\n",
    "# )"
   ]
  },
  {
   "cell_type": "code",
   "execution_count": 4,
   "id": "8784ceb3",
   "metadata": {},
   "outputs": [
    {
     "name": "stdout",
     "output_type": "stream",
     "text": [
      "Found 224 images belonging to 2 classes.\n",
      "Found 48 images belonging to 2 classes.\n",
      "Found 96 images belonging to 2 classes.\n"
     ]
    }
   ],
   "source": [
    "import tensorflow as tf\n",
    "from tensorflow.keras.preprocessing.image import ImageDataGenerator\n",
    "from sklearn.model_selection import train_test_split\n",
    "\n",
    "train_dir = './train_test_split/train/'\n",
    "test_dir = './train_test_split/test/'\n",
    "val_dir = './train_test_split/valid/'\n",
    "\n",
    "\n",
    "image_size = (224, 224)\n",
    "batch_size = 16\n",
    "\n",
    "train_datagen = ImageDataGenerator(\n",
    "    rescale=1.0 / 255,\n",
    "    rotation_range=20,\n",
    "    width_shift_range=0.2,\n",
    "    height_shift_range=0.2,\n",
    "    shear_range=0.2,\n",
    "    zoom_range=0.2,\n",
    "    horizontal_flip=True,\n",
    "    fill_mode='nearest')\n",
    "\n",
    "train_generator = train_datagen.flow_from_directory(\n",
    "    train_dir,\n",
    "    target_size=image_size,\n",
    "    batch_size=batch_size,\n",
    "    class_mode='categorical')\n",
    "\n",
    "test_datagen = ImageDataGenerator(rescale=1.0 / 255)\n",
    "\n",
    "test_generator = test_datagen.flow_from_directory(\n",
    "    test_dir,\n",
    "    target_size=image_size,\n",
    "    batch_size=batch_size,\n",
    "    class_mode='categorical')\n",
    "\n",
    "val_datagen = ImageDataGenerator(rescale=1.0 / 255)\n",
    "\n",
    "val_generator = val_datagen.flow_from_directory(\n",
    "    val_dir,\n",
    "    target_size=image_size,\n",
    "    batch_size=batch_size,\n",
    "    class_mode='categorical')"
   ]
  },
  {
   "cell_type": "code",
   "execution_count": 5,
   "id": "74023268",
   "metadata": {},
   "outputs": [],
   "source": [
    "NUM_CLASSES = 2\n",
    "\n",
    "# Fixed for Cats & Dogs color images\n",
    "CHANNELS = 3\n",
    "\n",
    "IMAGE_RESIZE = 256\n",
    "RESNET50_POOLING_AVERAGE = 'avg'\n",
    "DENSE_LAYER_ACTIVATION = 'softmax'\n",
    "OBJECTIVE_FUNCTION = 'binary_crossentropy'\n",
    "\n",
    "# Common accuracy metric for all outputs, but can use different metrics for different output\n",
    "LOSS_METRICS = ['accuracy']\n",
    "\n",
    "# EARLY_STOP_PATIENCE must be < NUM_EPOCHS\n",
    "NUM_EPOCHS = 10\n",
    "EARLY_STOP_PATIENCE = 5\n",
    "\n",
    "STEPS_PER_EPOCH_TRAINING = 8\n",
    "STEPS_PER_EPOCH_VALIDATION = 3\n",
    "\n",
    "# These steps value should be proper FACTOR of no.-of-images in train & valid folders respectively\n",
    "# NOTE that these BATCH* are for Keras ImageDataGenerator batching to fill epoch step input\n",
    "BATCH_SIZE_TRAINING = 100\n",
    "BATCH_SIZE_VALIDATION = 100\n",
    "\n",
    "# Using 1 to easily manage mapping between test_generator & prediction for submission preparation\n",
    "BATCH_SIZE_TESTING = 1"
   ]
  },
  {
   "cell_type": "code",
   "execution_count": 6,
   "id": "b01ad66d",
   "metadata": {},
   "outputs": [],
   "source": [
    "from tensorflow.keras.applications import ResNet50\n",
    "from tensorflow.keras.models import Sequential\n",
    "from tensorflow.keras.layers import Dense\n",
    "\n",
    "from keras.layers import Dropout\n",
    "\n",
    "\n",
    "#resnet_weights_path =  r\"D:\\ML\\ML-codes\\resnet50_weights_.h5\"\n",
    "Model = Sequential()\n",
    "\n",
    "# 1st layer as the lumpsum weights from resnet50_weights_tf_dim_ordering_tf_kernels_notop.h5\n",
    "# NOTE that this layer will be set below as NOT TRAINABLE, i.e., use it as is\n",
    "Model.add(ResNet50(include_top = False, pooling = RESNET50_POOLING_AVERAGE, weights = 'imagenet',input_shape=(256,256,3)))\n",
    "Model.add(Dropout(0.1))\n",
    "\n",
    "# 2nd layer as Dense for 2-class classification, i.e., dog or cat using SoftMax activation\n",
    "Model.add(Dense(2, activation = DENSE_LAYER_ACTIVATION))\n",
    "for layer in Model.layers[:-3]:  # Unfreeze the last few layers\n",
    "    layer.trainable = True\n",
    "\n",
    "# Say not to train first layer (ResNet) model as it is already trained\n",
    "Model.layers[0].trainable = False"
   ]
  },
  {
   "cell_type": "code",
   "execution_count": 7,
   "id": "f17b228e",
   "metadata": {},
   "outputs": [
    {
     "name": "stdout",
     "output_type": "stream",
     "text": [
      "Model: \"sequential\"\n",
      "_________________________________________________________________\n",
      " Layer (type)                Output Shape              Param #   \n",
      "=================================================================\n",
      " resnet50 (Functional)       (None, 2048)              23587712  \n",
      "                                                                 \n",
      " dropout (Dropout)           (None, 2048)              0         \n",
      "                                                                 \n",
      " dense (Dense)               (None, 2)                 4098      \n",
      "                                                                 \n",
      "=================================================================\n",
      "Total params: 23,591,810\n",
      "Trainable params: 4,098\n",
      "Non-trainable params: 23,587,712\n",
      "_________________________________________________________________\n"
     ]
    }
   ],
   "source": [
    "Model.summary()"
   ]
  },
  {
   "cell_type": "code",
   "execution_count": 8,
   "id": "c2d1dba8",
   "metadata": {},
   "outputs": [
    {
     "name": "stdout",
     "output_type": "stream",
     "text": [
      "Layer 0 (resnet50) is not trainable\n",
      "Layer 1 (dropout) is trainable\n",
      "Layer 2 (dense) is trainable\n"
     ]
    }
   ],
   "source": [
    "for i, layer in enumerate(Model.layers):\n",
    "    # Check if the layer is trainable\n",
    "    if layer.trainable:\n",
    "        print(f\"Layer {i} ({layer.name}) is trainable\")\n",
    "    else:\n",
    "        print(f\"Layer {i} ({layer.name}) is not trainable\")"
   ]
  },
  {
   "cell_type": "code",
   "execution_count": 9,
   "id": "9bde85cc",
   "metadata": {},
   "outputs": [],
   "source": [
    "from tensorflow.keras import optimizers\n",
    "\n",
    "sgd = optimizers.SGD(learning_rate = 0.0000000001,  momentum = 0.9, nesterov = True)\n",
    "Model.compile(optimizer = sgd, loss = OBJECTIVE_FUNCTION, metrics = LOSS_METRICS)\n",
    "\n",
    "\n",
    "from tensorflow.keras.applications.resnet50 import preprocess_input\n",
    "from tensorflow.keras.preprocessing.image import ImageDataGenerator\n",
    "\n",
    "image_size = IMAGE_RESIZE\n",
    "\n",
    "data_generator = ImageDataGenerator(preprocessing_function=preprocess_input)\n",
    "\n",
    "# train_generator = data_generator.flow_from_directory(\n",
    "#         r\"/workspace/train\",\n",
    "#         target_size=(image_size, image_size),\n",
    "#         batch_size=BATCH_SIZE_TRAINING,\n",
    "#         class_mode='categorical')\n",
    "\n",
    "# validation_generator = data_generator.flow_from_directory(\n",
    "#         r\"/workspace/test\",\n",
    "#         target_size=(image_size, image_size),\n",
    "#         batch_size=BATCH_SIZE_VALIDATION,\n",
    "#         class_mode='categorical') "
   ]
  },
  {
   "cell_type": "code",
   "execution_count": 10,
   "id": "161caf9e",
   "metadata": {},
   "outputs": [
    {
     "name": "stdout",
     "output_type": "stream",
     "text": [
      "Epoch 1/10\n",
      "8/8 [==============================] - 13s 1s/step - loss: 0.9537 - accuracy: 0.5000 - val_loss: 0.9181 - val_accuracy: 0.5208\n",
      "Epoch 2/10\n",
      "8/8 [==============================] - 7s 928ms/step - loss: 0.9816 - accuracy: 0.4766 - val_loss: 1.0414 - val_accuracy: 0.4375\n",
      "Epoch 3/10\n",
      "8/8 [==============================] - 8s 996ms/step - loss: 0.8991 - accuracy: 0.5391 - val_loss: 1.0072 - val_accuracy: 0.4583\n",
      "Epoch 4/10\n",
      "8/8 [==============================] - 7s 932ms/step - loss: 1.0030 - accuracy: 0.4688 - val_loss: 1.1024 - val_accuracy: 0.3958\n",
      "Epoch 5/10\n",
      "8/8 [==============================] - 8s 945ms/step - loss: 0.9910 - accuracy: 0.4844 - val_loss: 0.9180 - val_accuracy: 0.5208\n",
      "Epoch 6/10\n",
      "8/8 [==============================] - 8s 958ms/step - loss: 0.9624 - accuracy: 0.4922 - val_loss: 1.0143 - val_accuracy: 0.4583\n",
      "Epoch 7/10\n",
      "8/8 [==============================] - 8s 969ms/step - loss: 1.0020 - accuracy: 0.4688 - val_loss: 0.8878 - val_accuracy: 0.5417\n",
      "Epoch 8/10\n",
      "8/8 [==============================] - 8s 976ms/step - loss: 0.9479 - accuracy: 0.5156 - val_loss: 0.9464 - val_accuracy: 0.5000\n"
     ]
    }
   ],
   "source": [
    "from tensorflow.keras.callbacks import EarlyStopping, ModelCheckpoint\n",
    "\n",
    "cb_early_stopper = EarlyStopping(monitor = 'accuracy', patience = EARLY_STOP_PATIENCE)\n",
    "cb_checkpointer = ModelCheckpoint(filepath = r'./resnet50.hdf5', monitor = 'accuracy', save_best_only = True, mode = 'auto')\n",
    "\n",
    "\n",
    "fit_history = Model.fit(\n",
    "        train_generator,\n",
    "        steps_per_epoch=STEPS_PER_EPOCH_TRAINING,\n",
    "        epochs = NUM_EPOCHS,\n",
    "        validation_data=val_generator,\n",
    "        validation_steps=STEPS_PER_EPOCH_VALIDATION,\n",
    "        callbacks=[cb_checkpointer, cb_early_stopper]\n",
    ")"
   ]
  },
  {
   "cell_type": "code",
   "execution_count": 12,
   "id": "0d698a45",
   "metadata": {},
   "outputs": [
    {
     "name": "stdout",
     "output_type": "stream",
     "text": [
      "dict_keys(['loss', 'accuracy', 'val_loss', 'val_accuracy'])\n"
     ]
    },
    {
     "data": {
      "image/png": "[encoded data removed]",
      "text/plain": [
       "<Figure size 1500x800 with 2 Axes>"
      ]
     },
     "metadata": {},
     "output_type": "display_data"
    }
   ],
   "source": [
    "import matplotlib.pyplot as plt\n",
    "print(fit_history.history.keys())\n",
    "\n",
    "plt.figure(1, figsize = (15,8)) \n",
    "\n",
    "plt.subplot(221)  \n",
    "plt.plot(fit_history.history['accuracy'])  \n",
    "plt.plot(fit_history.history['val_accuracy'])  \n",
    "plt.title('model accuracy')  \n",
    "plt.ylabel('accuracy')  \n",
    "plt.xlabel('epoch')  \n",
    "plt.legend(['train', 'valid']) \n",
    "\n",
    "plt.figure(1, figsize = (15,8)) \n",
    "plt.subplot(222)  \n",
    "plt.plot(fit_history.history['loss'])  \n",
    "plt.plot(fit_history.history['val_loss'])  \n",
    "plt.title('model loss')  \n",
    "plt.ylabel('loss')  \n",
    "plt.xlabel('epoch')  \n",
    "plt.legend(['train', 'valid']) \n",
    "\n",
    "plt.show()"
   ]
  },
  {
   "cell_type": "code",
   "execution_count": 34,
   "id": "7ff64654",
   "metadata": {},
   "outputs": [
    {
     "name": "stderr",
     "output_type": "stream",
     "text": [
      "C:\\Users\\Siddarth\\AppData\\Local\\Temp\\ipykernel_15772\\3820456420.py:13: UserWarning: `Model.predict_generator` is deprecated and will be removed in a future version. Please use `Model.predict`, which supports generators.\n",
      "  pred = Model.predict_generator(test_generator, steps = len(test_generator), verbose = 1)\n"
     ]
    },
    {
     "name": "stdout",
     "output_type": "stream",
     "text": [
      "3/3 [==============================] - 3s 734ms/step\n"
     ]
    }
   ],
   "source": [
    "# test_generator = data_generator.flow_from_directory(\n",
    "#     directory = r\"/workspace/test\",\n",
    "#     target_size = (image_size, image_size),\n",
    "#     batch_size = BATCH_SIZE_TESTING,\n",
    "#     class_mode = None,\n",
    "#     shuffle = False,\n",
    "#     seed = 123\n",
    "# )\n",
    "import numpy as np\n",
    "\n",
    "# test_generator.reset()\n",
    "\n",
    "pred = Model.predict_generator(test_generator, steps = len(test_generator), verbose = 1)\n",
    "\n",
    "predicted_class_indices = np.argmax(pred, axis = 1)\n"
   ]
  },
  {
   "cell_type": "code",
   "execution_count": 35,
   "id": "8085ed7b",
   "metadata": {},
   "outputs": [
    {
     "name": "stdout",
     "output_type": "stream",
     "text": [
      "3/3 [==============================] - 2s 646ms/step\n"
     ]
    }
   ],
   "source": [
    "true_classes = test_generator.classes\n",
    "class_indices = train_generator.class_indices\n",
    "class_indices = dict((v,k) for k,v in class_indices.items())\n",
    "\n",
    "res_preds = Model.predict(test_generator)\n",
    "res_pred_classes = np.argmax(res_preds, axis=1)"
   ]
  },
  {
   "cell_type": "code",
   "execution_count": 36,
   "id": "e33341fb",
   "metadata": {},
   "outputs": [
    {
     "name": "stdout",
     "output_type": "stream",
     "text": [
      "ResNet50 Model Accuracy with Fine-Tuning: 50.00%\n"
     ]
    }
   ],
   "source": [
    "from sklearn.metrics import accuracy_score\n",
    "\n",
    "res_acc = accuracy_score(true_classes, res_pred_classes)\n",
    "print(\"ResNet50 Model Accuracy with Fine-Tuning: {:.2f}%\".format(res_acc * 100))"
   ]
  },
  {
   "cell_type": "code",
   "execution_count": 16,
   "id": "002ea04b",
   "metadata": {},
   "outputs": [
    {
     "name": "stdout",
     "output_type": "stream",
     "text": [
      "6/6 [==============================] - 4s 587ms/step\n"
     ]
    },
    {
     "data": {
      "image/png": "[encoded data removed]",
      "text/plain": [
       "<Figure size 800x600 with 2 Axes>"
      ]
     },
     "metadata": {},
     "output_type": "display_data"
    }
   ],
   "source": [
    "import numpy as np\n",
    "import seaborn as sns\n",
    "import matplotlib.pyplot as plt\n",
    "from sklearn.metrics import confusion_matrix, classification_report\n",
    "\n",
    "# Load the best saved model (if using ModelCheckpoint)\n",
    "# model.load_weights('vgg19.hdf5')\n",
    "\n",
    "# Assuming you have test data and labels in test_generator\n",
    "# Make predictions using your trained model\n",
    "predictions = Model.predict(val_generator)\n",
    "\n",
    "# Convert the predictions to binary labels (0 or 1)\n",
    "predicted_labels = np.argmax(predictions, axis=1)\n",
    "\n",
    "true_labels = val_generator.classes\n",
    "# Create a confusion matrix\n",
    "confusion = confusion_matrix(true_labels, predicted_labels)\n",
    "\n",
    "# Plot the confusion matrix using Seaborn\n",
    "plt.figure(figsize=(8, 6))\n",
    "sns.heatmap(confusion, annot=True, fmt='d', cmap='Blues', \n",
    "            xticklabels=val_generator.class_indices.keys(),\n",
    "            yticklabels=val_generator.class_indices.keys())\n",
    "plt.xlabel('Predicted')\n",
    "plt.ylabel('True')\n",
    "plt.title('Confusion Matrix')\n",
    "plt.show()"
   ]
  },
  {
   "cell_type": "code",
   "execution_count": 17,
   "id": "770d55b6",
   "metadata": {},
   "outputs": [
    {
     "name": "stdout",
     "output_type": "stream",
     "text": [
      "6/6 [==============================] - 4s 609ms/step\n"
     ]
    }
   ],
   "source": [
    "import numpy as np\n",
    "import seaborn as sns\n",
    "import matplotlib.pyplot as plt\n",
    "from sklearn.metrics import confusion_matrix, classification_report\n",
    "\n",
    "# Load the best saved model (if using ModelCheckpoint)\n",
    "# model.load_weights('vgg19.hdf5')\n",
    "\n",
    "# Assuming you have test data and labels in test_generator\n",
    "# Make predictions using your trained model\n",
    "predictions = Model.predict(val_generator)"
   ]
  },
  {
   "cell_type": "code",
   "execution_count": 18,
   "id": "3800fd5f",
   "metadata": {},
   "outputs": [
    {
     "data": {
      "text/plain": [
       "array([[0.9505783 , 0.0494217 ],\n",
       "       [0.9508951 , 0.04910491],\n",
       "       [0.94735086, 0.05264918],\n",
       "       [0.95164806, 0.04835184],\n",
       "       [0.9507598 , 0.04924003],\n",
       "       [0.94969064, 0.0503093 ],\n",
       "       [0.9530798 , 0.04692022],\n",
       "       [0.95073295, 0.04926698],\n",
       "       [0.94996405, 0.05003598],\n",
       "       [0.94903326, 0.05096671],\n",
       "       [0.9497648 , 0.05023526],\n",
       "       [0.9482331 , 0.05176689],\n",
       "       [0.94762385, 0.05237611],\n",
       "       [0.950119  , 0.04988088],\n",
       "       [0.9496603 , 0.05033968],\n",
       "       [0.9477079 , 0.05229212],\n",
       "       [0.95474166, 0.04525831],\n",
       "       [0.94726735, 0.05273253],\n",
       "       [0.9518629 , 0.0481371 ],\n",
       "       [0.94574517, 0.05425474],\n",
       "       [0.9536015 , 0.0463985 ],\n",
       "       [0.9539122 , 0.04608777],\n",
       "       [0.95008177, 0.04991825],\n",
       "       [0.94703615, 0.05296386],\n",
       "       [0.9505492 , 0.04945084],\n",
       "       [0.9536926 , 0.04630736],\n",
       "       [0.94756013, 0.05243979],\n",
       "       [0.9536542 , 0.0463457 ],\n",
       "       [0.9485621 , 0.05143784],\n",
       "       [0.9513879 , 0.04861214],\n",
       "       [0.9485936 , 0.05140625],\n",
       "       [0.94931877, 0.05068124],\n",
       "       [0.95344865, 0.04655127],\n",
       "       [0.94704723, 0.05295281],\n",
       "       [0.94620734, 0.05379265],\n",
       "       [0.9529866 , 0.04701332],\n",
       "       [0.9481827 , 0.0518172 ],\n",
       "       [0.9491546 , 0.05084547],\n",
       "       [0.9475513 , 0.05244873],\n",
       "       [0.958298  , 0.041702  ],\n",
       "       [0.9465786 , 0.05342136],\n",
       "       [0.94835895, 0.05164105],\n",
       "       [0.9530767 , 0.04692321],\n",
       "       [0.95075554, 0.04924434],\n",
       "       [0.947655  , 0.05234485],\n",
       "       [0.9529192 , 0.04708074],\n",
       "       [0.9482494 , 0.05175059],\n",
       "       [0.95245755, 0.04754258],\n",
       "       [0.94798285, 0.05201718],\n",
       "       [0.94834435, 0.05165574],\n",
       "       [0.9472492 , 0.05275077],\n",
       "       [0.9502008 , 0.04979909],\n",
       "       [0.9482663 , 0.05173363],\n",
       "       [0.9533948 , 0.04660517],\n",
       "       [0.94891614, 0.05108382],\n",
       "       [0.94989216, 0.05010779],\n",
       "       [0.9481575 , 0.0518424 ],\n",
       "       [0.94937783, 0.05062211],\n",
       "       [0.9547944 , 0.04520554],\n",
       "       [0.9469211 , 0.05307885],\n",
       "       [0.94878805, 0.05121196],\n",
       "       [0.9577717 , 0.04222815],\n",
       "       [0.9496005 , 0.05039946],\n",
       "       [0.9524823 , 0.04751771],\n",
       "       [0.9512758 , 0.04872418],\n",
       "       [0.94826627, 0.0517337 ],\n",
       "       [0.94934684, 0.05065301],\n",
       "       [0.95190805, 0.04809194],\n",
       "       [0.9525866 , 0.04741345],\n",
       "       [0.95210993, 0.04789005],\n",
       "       [0.95198077, 0.04801928],\n",
       "       [0.9469813 , 0.0530187 ],\n",
       "       [0.946221  , 0.05377897],\n",
       "       [0.9475161 , 0.05248398],\n",
       "       [0.9496869 , 0.05031309],\n",
       "       [0.9513075 , 0.04869241],\n",
       "       [0.95189714, 0.04810283],\n",
       "       [0.9527908 , 0.04720916],\n",
       "       [0.9480875 , 0.05191243],\n",
       "       [0.95089775, 0.04910221],\n",
       "       [0.95512885, 0.0448712 ],\n",
       "       [0.95637214, 0.04362781],\n",
       "       [0.9486451 , 0.05135482],\n",
       "       [0.9534247 , 0.0465753 ],\n",
       "       [0.94717276, 0.05282711],\n",
       "       [0.9507418 , 0.04925813],\n",
       "       [0.95324284, 0.0467571 ],\n",
       "       [0.9532664 , 0.04673365],\n",
       "       [0.9514027 , 0.04859725],\n",
       "       [0.9470538 , 0.05294626],\n",
       "       [0.9495534 , 0.05044668],\n",
       "       [0.9477309 , 0.05226908],\n",
       "       [0.9472903 , 0.05270954],\n",
       "       [0.94723123, 0.05276877],\n",
       "       [0.9489817 , 0.0510182 ],\n",
       "       [0.94830567, 0.05169429]], dtype=float32)"
      ]
     },
     "execution_count": 18,
     "metadata": {},
     "output_type": "execute_result"
    }
   ],
   "source": [
    "predictions"
   ]
  },
  {
   "cell_type": "code",
   "execution_count": null,
   "id": "79b5893f",
   "metadata": {},
   "outputs": [],
   "source": []
  }
 ],
 "metadata": {
  "kernelspec": {
   "display_name": "Python (py3tf2)",
   "language": "python",
   "name": "py3tf2"
  },
  "language_info": {
   "codemirror_mode": {
    "name": "ipython",
    "version": 3
   },
   "file_extension": ".py",
   "mimetype": "text/x-python",
   "name": "python",
   "nbconvert_exporter": "python",
   "pygments_lexer": "ipython3",
   "version": "3.10.6"
  }
 },
 "nbformat": 4,
 "nbformat_minor": 5
}
