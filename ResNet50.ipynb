{
 "cells": [
  {
   "cell_type": "code",
   "execution_count": 1,
   "id": "7e72648e",
   "metadata": {},
   "outputs": [],
   "source": [
    "%%capture\n",
    "import mne\n",
    "import numpy as np\n",
    "import matplotlib.pyplot as plt\n",
    "import tensorflow as tf\n",
    "from tensorflow.keras.models import Sequential\n",
    "from tensorflow.keras.layers import Conv2D, MaxPooling2D, Flatten, Dense, Dropout\n",
    "from sklearn.model_selection import train_test_split\n",
    "import os\n",
    "import pandas as pd\n",
    "from PIL import Image\n",
    "from sklearn.model_selection import train_test_split\n",
    "from sklearn.ensemble import RandomForestClassifier\n",
    "from sklearn.metrics import classification_report\n",
    "from scipy.signal import welch\n"
   ]
  },
  {
   "cell_type": "code",
   "execution_count": 2,
   "id": "806c13f6",
   "metadata": {},
   "outputs": [],
   "source": [
    "%%capture\n",
    "#Convert to DataFrame\n",
    "def convert_bdf_to_dataframe(bdf_filename):\n",
    "    raw_data = mne.io.read_raw_bdf(bdf_filename, preload=True)\n",
    "    eeg_data_raw = raw_data.get_data()\n",
    "    channel_names = raw_data.ch_names\n",
    "    time_index = raw_data.times\n",
    "    eeg_data = pd.DataFrame(data=eeg_data_raw.T, columns=channel_names, index=time_index)\n",
    "    col_names = ['O1', 'O2', 'F3', 'F4', 'C3' ,'C4' , 'Fp1', 'Fp2']\n",
    "    eeg_data = eeg_data[col_names]\n",
    "    segment_size = 1024\n",
    "    num_segments = len(eeg_data) // segment_size\n",
    "    reduced_df = pd.DataFrame(columns=eeg_data.columns)\n",
    "    for i in range(num_segments):\n",
    "        start_idx = i * segment_size\n",
    "        end_idx = (i + 1) * segment_size\n",
    "        segment_data = eeg_data.iloc[start_idx:end_idx]    \n",
    "        mean_values = segment_data.mean()\n",
    "        reduced_df = reduced_df.append(mean_values, ignore_index=True)\n",
    "\n",
    "    return reduced_df"
   ]
  },
  {
   "cell_type": "code",
   "execution_count": 3,
   "id": "415ff059",
   "metadata": {},
   "outputs": [],
   "source": [
    "%%capture\n",
    "# Define a function to extract labels from filenames\n",
    "def extract_label_from_filename(filename):\n",
    "    # Assuming filenames are in the format: subject_task.bdf\n",
    "    task = filename.split('_')[1].split('.')[0]\n",
    "    sub = filename.split('_')[0]\n",
    "    return task, sub"
   ]
  },
  {
   "cell_type": "code",
   "execution_count": 4,
   "id": "90303637",
   "metadata": {},
   "outputs": [],
   "source": [
    "%%capture\n",
    "\n",
    "# Example code to create a spectrogram image from each EEG channel\n",
    "def eeg_channel_to_spectrogram(channel_data, ch_idx):\n",
    "    plt.specgram(channel_data, NFFT=256, Fs=1000, noverlap=128)\n",
    "    plt.axis('off')  # Turn off axis\n",
    "    plt.savefig(f'{ch_idx}_channel_spectrogram.png', bbox_inches='tight', pad_inches=0)\n",
    "    plt.close()\n",
    "    image = Image.open(f'{ch_idx}_channel_spectrogram.png')\n",
    "    path = f'{ch_idx}_channel_spectrogram.png'\n",
    "    return image, path"
   ]
  },
  {
   "cell_type": "code",
   "execution_count": 8,
   "id": "4c4aa791",
   "metadata": {},
   "outputs": [],
   "source": [
    "%%capture\n",
    "\n",
    "from PIL import Image\n",
    "data_dir = './Dataset-2/'  # Replace with the path to your .bdf data directory\n",
    "eeg_channel_images = []\n",
    "subject_data = {}"
   ]
  },
  {
   "cell_type": "code",
   "execution_count": 9,
   "id": "5101b8a6",
   "metadata": {},
   "outputs": [],
   "source": [
    "%%capture\n",
    "# Load and preprocess the data\n",
    "\n",
    "output_dir_med = './output_images/Meditation'\n",
    "output_dir_think = './output_images/Thinking'\n",
    "os.makedirs(output_dir_med, exist_ok=True)\n",
    "os.makedirs(output_dir_think, exist_ok=True)\n",
    "i = 197\n",
    "\n",
    "# Loop through all files in the directory\n",
    "for filename in os.listdir(data_dir):\n",
    "    if filename.endswith('.bdf'):\n",
    "        # Convert the .bdf file to a DataFrame\n",
    "        eeg_data = convert_bdf_to_dataframe(os.path.join(data_dir, filename))\n",
    "        \n",
    "        # Extract labels from filenames\n",
    "        label, sub = extract_label_from_filename(filename)\n",
    "        Dirs = ''\n",
    "        subject = f'sub{i}'\n",
    "        if 'med'in label:\n",
    "#             Dirs = f'./output_images/{subject}_Med'\n",
    "            Dirs = f'{output_dir_med}/{subject}'\n",
    "            os.makedirs(Dirs, exist_ok=True)\n",
    "        else:\n",
    "#             Dirs = f'./output_images/{subject}_Think'\n",
    "            Dirs = f'{output_dir_think}/{subject}'\n",
    "            os.makedirs(Dirs, exist_ok=True)\n",
    "        \n",
    "        \n",
    "        for channel_idx in range(eeg_data.shape[1]):\n",
    "            channel_data = eeg_data.iloc[:,channel_idx]\n",
    "            channel_image, path = eeg_channel_to_spectrogram(channel_data, eeg_data.columns[channel_idx])\n",
    "            image_path = os.path.join(Dirs, path)\n",
    "            print(image_path)\n",
    "            channel_image.save(image_path)\n",
    "#             eeg_channel_images.append(image_filename)\n",
    "            if subject not in subject_data:\n",
    "                subject_data[subject] = []\n",
    "            subject_data[subject].append(channel_data)\n",
    "        i+=1 "
   ]
  },
  {
   "cell_type": "code",
   "execution_count": 1,
   "id": "2b3c7223",
   "metadata": {},
   "outputs": [],
   "source": [
    "import tensorflow as tf\n",
    "from tensorflow.keras.preprocessing.image import ImageDataGenerator\n",
    "from sklearn.model_selection import train_test_split\n"
   ]
  },
  {
   "cell_type": "code",
   "execution_count": 2,
   "id": "5b13389f",
   "metadata": {},
   "outputs": [],
   "source": [
    "data_directory = \"./train_test_split/\"\n",
    "image_size = (256, 256)  # Adjust to your desired image size\n",
    "batch_size = 16  # Adjust as needed\n",
    "# validation_split = 0.1  # 20% of the data for validation\n",
    "# test_split = 0.1  # 10% of the data for testing\n"
   ]
  },
  {
   "cell_type": "code",
   "execution_count": 3,
   "id": "12590c58",
   "metadata": {},
   "outputs": [],
   "source": [
    "# subfolder_names = os.listdir(data_directory)\n",
    "\n",
    "# num_classes = 2  # Specify the number of classes (in this case, 2)\n",
    "\n",
    "# # Split data into train, validation, and test sets\n",
    "# # subfolder_names = os.listdir(data_directory)\n",
    "# # train_data, test_data = train_test_split(\n",
    "# #     subfolder_names,\n",
    "# #     test_size=test_split,\n",
    "# #     random_state=42,\n",
    "# #     stratify=None  # No need to stratify with only two classes\n",
    "# # )\n",
    "\n",
    "# # train_data, val_data = train_test_split(\n",
    "# #     train_data,\n",
    "# #     test_size=validation_split,\n",
    "# #     random_state=42,\n",
    "# #     stratify=None  # No need to stratify with only two classes\n",
    "# # )\n",
    "\n",
    "# # Create data generators\n",
    "# train_datagen = ImageDataGenerator(\n",
    "#     rescale=1./255,\n",
    "#     rotation_range=20,\n",
    "#     width_shift_range=0.2,\n",
    "#     height_shift_range=0.2,\n",
    "#     shear_range=0.2,\n",
    "#     zoom_range=0.2,\n",
    "#     horizontal_flip=True,\n",
    "#     fill_mode='nearest'\n",
    "# )\n",
    "\n",
    "# train_generator = train_datagen.flow_from_directory(\n",
    "#     data_directory,\n",
    "#     target_size=image_size,\n",
    "#     batch_size=batch_size,\n",
    "#     class_mode='binary',  # Use 'binary' for binary classification\n",
    "#     subset='training',\n",
    "#     shuffle=True  # Shuffle training data\n",
    "# )\n",
    "\n",
    "# validation_generator = train_datagen.flow_from_directory(\n",
    "#     data_directory,\n",
    "#     target_size=image_size,\n",
    "#     batch_size=batch_size,\n",
    "#     class_mode='binary',  # Use 'binary' for binary classification\n",
    "#     subset='validation',\n",
    "#     shuffle=False  # Do not shuffle validation data\n",
    "# )\n",
    "\n",
    "# test_datagen = ImageDataGenerator(rescale=1./255)\n",
    "\n",
    "# test_generator = test_datagen.flow_from_directory(\n",
    "#     data_directory,\n",
    "#     target_size=image_size,\n",
    "#     batch_size=batch_size,\n",
    "#     class_mode='binary',  # Use 'binary' for binary classification\n",
    "#     subset=None,  # Test set should not be a subset of train/val\n",
    "#     shuffle=False  # Do not shuffle test data\n",
    "# )"
   ]
  },
  {
   "cell_type": "code",
   "execution_count": 4,
   "id": "8784ceb3",
   "metadata": {},
   "outputs": [
    {
     "name": "stdout",
     "output_type": "stream",
     "text": [
      "Found 2576 images belonging to 2 classes.\n",
      "Found 240 images belonging to 2 classes.\n",
      "Found 320 images belonging to 2 classes.\n"
     ]
    }
   ],
   "source": [
    "import tensorflow as tf\n",
    "from tensorflow.keras.preprocessing.image import ImageDataGenerator\n",
    "from sklearn.model_selection import train_test_split\n",
    "\n",
    "train_dir = './train_test_split/train/'\n",
    "test_dir = './train_test_split/test/'\n",
    "val_dir = './train_test_split/valid/'\n",
    "\n",
    "\n",
    "image_size = (224, 224)\n",
    "batch_size = 16\n",
    "\n",
    "train_datagen = ImageDataGenerator(\n",
    "    rescale=1.0 / 255,\n",
    "    rotation_range=20,\n",
    "    width_shift_range=0.2,\n",
    "    height_shift_range=0.2,\n",
    "    shear_range=0.2,\n",
    "    zoom_range=0.2,\n",
    "    horizontal_flip=True,\n",
    "    fill_mode='nearest')\n",
    "\n",
    "train_generator = train_datagen.flow_from_directory(\n",
    "    train_dir,\n",
    "    target_size=image_size,\n",
    "    batch_size=batch_size,\n",
    "    class_mode='categorical')\n",
    "\n",
    "test_datagen = ImageDataGenerator(rescale=1.0 / 255)\n",
    "\n",
    "test_generator = test_datagen.flow_from_directory(\n",
    "    test_dir,\n",
    "    target_size=image_size,\n",
    "    batch_size=batch_size,\n",
    "    class_mode='categorical')\n",
    "\n",
    "val_datagen = ImageDataGenerator(rescale=1.0 / 255)\n",
    "\n",
    "val_generator = val_datagen.flow_from_directory(\n",
    "    val_dir,\n",
    "    target_size=image_size,\n",
    "    batch_size=batch_size,\n",
    "    class_mode='categorical')"
   ]
  },
  {
   "cell_type": "code",
   "execution_count": 5,
   "id": "74023268",
   "metadata": {},
   "outputs": [],
   "source": [
    "NUM_CLASSES = 2\n",
    "\n",
    "# Fixed for Cats & Dogs color images\n",
    "CHANNELS = 3\n",
    "\n",
    "IMAGE_RESIZE = 256\n",
    "RESNET50_POOLING_AVERAGE = 'avg'\n",
    "DENSE_LAYER_ACTIVATION = 'softmax'\n",
    "OBJECTIVE_FUNCTION = 'binary_crossentropy'\n",
    "\n",
    "# Common accuracy metric for all outputs, but can use different metrics for different output\n",
    "LOSS_METRICS = ['accuracy']\n",
    "\n",
    "# EARLY_STOP_PATIENCE must be < NUM_EPOCHS\n",
    "NUM_EPOCHS = 100\n",
    "EARLY_STOP_PATIENCE = 15\n",
    "\n",
    "STEPS_PER_EPOCH_TRAINING = 24\n",
    "STEPS_PER_EPOCH_VALIDATION = 12\n",
    "\n",
    "# These steps value should be proper FACTOR of no.-of-images in train & valid folders respectively\n",
    "# NOTE that these BATCH* are for Keras ImageDataGenerator batching to fill epoch step input\n",
    "BATCH_SIZE_TRAINING = 100\n",
    "BATCH_SIZE_VALIDATION = 100\n",
    "\n",
    "# Using 1 to easily manage mapping between test_generator & prediction for submission preparation\n",
    "BATCH_SIZE_TESTING = 1"
   ]
  },
  {
   "cell_type": "code",
   "execution_count": 6,
   "id": "b01ad66d",
   "metadata": {},
   "outputs": [],
   "source": [
    "from tensorflow.keras.applications import ResNet50\n",
    "from tensorflow.keras.models import Sequential\n",
    "from tensorflow.keras.layers import Dense\n",
    "\n",
    "from keras.layers import Dropout\n",
    "\n",
    "\n",
    "#resnet_weights_path =  r\"D:\\ML\\ML-codes\\resnet50_weights_.h5\"\n",
    "Model = Sequential()\n",
    "\n",
    "# 1st layer as the lumpsum weights from resnet50_weights_tf_dim_ordering_tf_kernels_notop.h5\n",
    "# NOTE that this layer will be set below as NOT TRAINABLE, i.e., use it as is\n",
    "Model.add(ResNet50(include_top = False, pooling = RESNET50_POOLING_AVERAGE, weights = 'imagenet',input_shape=(256,256,3)))\n",
    "Model.add(Dropout(0.1))\n",
    "\n",
    "# 2nd layer as Dense for 2-class classification, i.e., dog or cat using SoftMax activation\n",
    "Model.add(Dense(2, activation = DENSE_LAYER_ACTIVATION))\n",
    "for layer in Model.layers[:-3]:  # Unfreeze the last few layers\n",
    "    layer.trainable = True\n",
    "\n",
    "# Say not to train first layer (ResNet) model as it is already trained\n",
    "Model.layers[0].trainable = False"
   ]
  },
  {
   "cell_type": "code",
   "execution_count": 7,
   "id": "f17b228e",
   "metadata": {},
   "outputs": [
    {
     "name": "stdout",
     "output_type": "stream",
     "text": [
      "Model: \"sequential\"\n",
      "_________________________________________________________________\n",
      " Layer (type)                Output Shape              Param #   \n",
      "=================================================================\n",
      " resnet50 (Functional)       (None, 2048)              23587712  \n",
      "                                                                 \n",
      " dropout (Dropout)           (None, 2048)              0         \n",
      "                                                                 \n",
      " dense (Dense)               (None, 2)                 4098      \n",
      "                                                                 \n",
      "=================================================================\n",
      "Total params: 23591810 (90.00 MB)\n",
      "Trainable params: 4098 (16.01 KB)\n",
      "Non-trainable params: 23587712 (89.98 MB)\n",
      "_________________________________________________________________\n"
     ]
    }
   ],
   "source": [
    "Model.summary()"
   ]
  },
  {
   "cell_type": "code",
   "execution_count": 8,
   "id": "c2d1dba8",
   "metadata": {},
   "outputs": [
    {
     "name": "stdout",
     "output_type": "stream",
     "text": [
      "Layer 0 (resnet50) is not trainable\n",
      "Layer 1 (dropout) is trainable\n",
      "Layer 2 (dense) is trainable\n"
     ]
    }
   ],
   "source": [
    "for i, layer in enumerate(Model.layers):\n",
    "    # Check if the layer is trainable\n",
    "    if layer.trainable:\n",
    "        print(f\"Layer {i} ({layer.name}) is trainable\")\n",
    "    else:\n",
    "        print(f\"Layer {i} ({layer.name}) is not trainable\")"
   ]
  },
  {
   "cell_type": "code",
   "execution_count": 9,
   "id": "9bde85cc",
   "metadata": {},
   "outputs": [],
   "source": [
    "from tensorflow.keras import optimizers\n",
    "\n",
    "sgd = optimizers.SGD(learning_rate = 0.001,  momentum = 0.9, nesterov = True)\n",
    "Model.compile(optimizer = sgd, loss = OBJECTIVE_FUNCTION, metrics = LOSS_METRICS)\n",
    "\n",
    "\n",
    "from tensorflow.keras.applications.resnet50 import preprocess_input\n",
    "from tensorflow.keras.preprocessing.image import ImageDataGenerator\n",
    "\n",
    "image_size = IMAGE_RESIZE\n",
    "\n",
    "data_generator = ImageDataGenerator(preprocessing_function=preprocess_input)\n",
    "\n",
    "# train_generator = data_generator.flow_from_directory(\n",
    "#         r\"/workspace/train\",\n",
    "#         target_size=(image_size, image_size),\n",
    "#         batch_size=BATCH_SIZE_TRAINING,\n",
    "#         class_mode='categorical')\n",
    "\n",
    "# validation_generator = data_generator.flow_from_directory(\n",
    "#         r\"/workspace/test\",\n",
    "#         target_size=(image_size, image_size),\n",
    "#         batch_size=BATCH_SIZE_VALIDATION,\n",
    "#         class_mode='categorical') "
   ]
  },
  {
   "cell_type": "code",
   "execution_count": 10,
   "id": "161caf9e",
   "metadata": {},
   "outputs": [
    {
     "name": "stdout",
     "output_type": "stream",
     "text": [
      "Epoch 1/100\n",
      "24/24 [==============================] - ETA: 0s - loss: 0.7259 - accuracy: 0.4688"
     ]
    },
    {
     "name": "stderr",
     "output_type": "stream",
     "text": [
      "C:\\Users\\admin\\anaconda3\\Lib\\site-packages\\keras\\src\\engine\\training.py:3000: UserWarning: You are saving your model as an HDF5 file via `model.save()`. This file format is considered legacy. We recommend using instead the native Keras format, e.g. `model.save('my_model.keras')`.\n",
      "  saving_api.save_model(\n"
     ]
    },
    {
     "name": "stdout",
     "output_type": "stream",
     "text": [
      "24/24 [==============================] - 54s 2s/step - loss: 0.7259 - accuracy: 0.4688 - val_loss: 0.7157 - val_accuracy: 0.4531\n",
      "Epoch 2/100\n",
      "24/24 [==============================] - 39s 2s/step - loss: 0.7029 - accuracy: 0.5234 - val_loss: 0.6933 - val_accuracy: 0.5000\n",
      "Epoch 3/100\n",
      "24/24 [==============================] - 40s 2s/step - loss: 0.7077 - accuracy: 0.5026 - val_loss: 0.7047 - val_accuracy: 0.5104\n",
      "Epoch 4/100\n",
      "24/24 [==============================] - 42s 2s/step - loss: 0.7035 - accuracy: 0.5339 - val_loss: 0.6959 - val_accuracy: 0.5156\n",
      "Epoch 5/100\n",
      "24/24 [==============================] - 41s 2s/step - loss: 0.7048 - accuracy: 0.5521 - val_loss: 0.6942 - val_accuracy: 0.5156\n",
      "Epoch 6/100\n",
      "24/24 [==============================] - 42s 2s/step - loss: 0.7009 - accuracy: 0.5000 - val_loss: 0.7014 - val_accuracy: 0.5312\n",
      "Epoch 7/100\n",
      "24/24 [==============================] - 40s 2s/step - loss: 0.7039 - accuracy: 0.5182 - val_loss: 0.7053 - val_accuracy: 0.4740\n",
      "Epoch 8/100\n",
      "24/24 [==============================] - 41s 2s/step - loss: 0.7059 - accuracy: 0.5026 - val_loss: 0.7139 - val_accuracy: 0.5156\n",
      "Epoch 9/100\n",
      "24/24 [==============================] - 40s 2s/step - loss: 0.7065 - accuracy: 0.5156 - val_loss: 0.6923 - val_accuracy: 0.5208\n",
      "Epoch 10/100\n",
      "24/24 [==============================] - 41s 2s/step - loss: 0.7014 - accuracy: 0.4948 - val_loss: 0.6934 - val_accuracy: 0.5052\n",
      "Epoch 11/100\n",
      "24/24 [==============================] - 40s 2s/step - loss: 0.7095 - accuracy: 0.4870 - val_loss: 0.7022 - val_accuracy: 0.5000\n",
      "Epoch 12/100\n",
      "24/24 [==============================] - 38s 2s/step - loss: 0.7094 - accuracy: 0.5000 - val_loss: 0.6974 - val_accuracy: 0.4740\n",
      "Epoch 13/100\n",
      "24/24 [==============================] - 40s 2s/step - loss: 0.6979 - accuracy: 0.5156 - val_loss: 0.7139 - val_accuracy: 0.4688\n",
      "Epoch 14/100\n",
      "24/24 [==============================] - 40s 2s/step - loss: 0.7118 - accuracy: 0.4479 - val_loss: 0.6925 - val_accuracy: 0.5208\n",
      "Epoch 15/100\n",
      "24/24 [==============================] - 41s 2s/step - loss: 0.7023 - accuracy: 0.5078 - val_loss: 0.6945 - val_accuracy: 0.5052\n",
      "Epoch 16/100\n",
      "24/24 [==============================] - 39s 2s/step - loss: 0.6981 - accuracy: 0.4922 - val_loss: 0.6959 - val_accuracy: 0.4948\n",
      "Epoch 17/100\n",
      "24/24 [==============================] - 40s 2s/step - loss: 0.7111 - accuracy: 0.4896 - val_loss: 0.6932 - val_accuracy: 0.5052\n",
      "Epoch 18/100\n",
      "24/24 [==============================] - 40s 2s/step - loss: 0.6960 - accuracy: 0.5182 - val_loss: 0.6969 - val_accuracy: 0.5052\n",
      "Epoch 19/100\n",
      "24/24 [==============================] - 39s 2s/step - loss: 0.7164 - accuracy: 0.4609 - val_loss: 0.6923 - val_accuracy: 0.5260\n",
      "Epoch 20/100\n",
      "24/24 [==============================] - 40s 2s/step - loss: 0.7034 - accuracy: 0.5078 - val_loss: 0.6946 - val_accuracy: 0.5000\n"
     ]
    }
   ],
   "source": [
    "from tensorflow.keras.callbacks import EarlyStopping, ModelCheckpoint\n",
    "\n",
    "cb_early_stopper = EarlyStopping(monitor = 'accuracy', patience = EARLY_STOP_PATIENCE)\n",
    "cb_checkpointer = ModelCheckpoint(filepath = r'./resnet50.hdf5', monitor = 'accuracy', save_best_only = True, mode = 'auto')\n",
    "\n",
    "\n",
    "fit_history = Model.fit(\n",
    "        train_generator,\n",
    "        steps_per_epoch=STEPS_PER_EPOCH_TRAINING,\n",
    "        epochs = NUM_EPOCHS,\n",
    "        validation_data=val_generator,\n",
    "        validation_steps=STEPS_PER_EPOCH_VALIDATION,\n",
    "        callbacks=[cb_checkpointer, cb_early_stopper]\n",
    ")"
   ]
  },
  {
   "cell_type": "code",
   "execution_count": 11,
   "id": "0d698a45",
   "metadata": {},
   "outputs": [
    {
     "name": "stdout",
     "output_type": "stream",
     "text": [
      "dict_keys(['loss', 'accuracy', 'val_loss', 'val_accuracy'])\n"
     ]
    },
    {
     "data": {
      "image/png": "[encoded data removed]",
      "text/plain": [
       "<Figure size 1500x800 with 2 Axes>"
      ]
     },
     "metadata": {},
     "output_type": "display_data"
    }
   ],
   "source": [
    "import matplotlib.pyplot as plt\n",
    "print(fit_history.history.keys())\n",
    "\n",
    "plt.figure(1, figsize = (15,8)) \n",
    "\n",
    "plt.subplot(221)  \n",
    "plt.plot(fit_history.history['accuracy'])  \n",
    "plt.plot(fit_history.history['val_accuracy'])  \n",
    "plt.title('model accuracy')  \n",
    "plt.ylabel('accuracy')  \n",
    "plt.xlabel('epoch')  \n",
    "plt.legend(['train', 'valid']) \n",
    "\n",
    "plt.figure(1, figsize = (15,8)) \n",
    "plt.subplot(222)  \n",
    "plt.plot(fit_history.history['loss'])  \n",
    "plt.plot(fit_history.history['val_loss'])  \n",
    "plt.title('model loss')  \n",
    "plt.ylabel('loss')  \n",
    "plt.xlabel('epoch')  \n",
    "plt.legend(['train', 'valid']) \n",
    "\n",
    "plt.show()"
   ]
  },
  {
   "cell_type": "code",
   "execution_count": 12,
   "id": "7ff64654",
   "metadata": {},
   "outputs": [
    {
     "name": "stderr",
     "output_type": "stream",
     "text": [
      "C:\\Users\\admin\\AppData\\Local\\Temp\\ipykernel_7360\\3820456420.py:13: UserWarning: `Model.predict_generator` is deprecated and will be removed in a future version. Please use `Model.predict`, which supports generators.\n",
      "  pred = Model.predict_generator(test_generator, steps = len(test_generator), verbose = 1)\n"
     ]
    },
    {
     "name": "stdout",
     "output_type": "stream",
     "text": [
      "15/15 [==============================] - 6s 359ms/step\n"
     ]
    }
   ],
   "source": [
    "# test_generator = data_generator.flow_from_directory(\n",
    "#     directory = r\"/workspace/test\",\n",
    "#     target_size = (image_size, image_size),\n",
    "#     batch_size = BATCH_SIZE_TESTING,\n",
    "#     class_mode = None,\n",
    "#     shuffle = False,\n",
    "#     seed = 123\n",
    "# )\n",
    "import numpy as np\n",
    "\n",
    "# test_generator.reset()\n",
    "\n",
    "pred = Model.predict_generator(test_generator, steps = len(test_generator), verbose = 1)\n",
    "\n",
    "predicted_class_indices = np.argmax(pred, axis = 1)\n"
   ]
  },
  {
   "cell_type": "code",
   "execution_count": 13,
   "id": "8085ed7b",
   "metadata": {},
   "outputs": [
    {
     "name": "stdout",
     "output_type": "stream",
     "text": [
      "15/15 [==============================] - 6s 369ms/step\n"
     ]
    }
   ],
   "source": [
    "true_classes = test_generator.classes\n",
    "class_indices = train_generator.class_indices\n",
    "class_indices = dict((v,k) for k,v in class_indices.items())\n",
    "\n",
    "res_preds = Model.predict(test_generator)\n",
    "res_pred_classes = np.argmax(res_preds, axis=1)"
   ]
  },
  {
   "cell_type": "code",
   "execution_count": 14,
   "id": "e33341fb",
   "metadata": {},
   "outputs": [
    {
     "name": "stdout",
     "output_type": "stream",
     "text": [
      "ResNet50 Model Accuracy with Fine-Tuning: 50.00%\n"
     ]
    }
   ],
   "source": [
    "from sklearn.metrics import accuracy_score\n",
    "\n",
    "res_acc = accuracy_score(true_classes, res_pred_classes)\n",
    "print(\"ResNet50 Model Accuracy with Fine-Tuning: {:.2f}%\".format(res_acc * 100))"
   ]
  },
  {
   "cell_type": "code",
   "execution_count": null,
   "id": "002ea04b",
   "metadata": {},
   "outputs": [],
   "source": []
  }
 ],
 "metadata": {
  "kernelspec": {
   "display_name": "Python 3 (ipykernel)",
   "language": "python",
   "name": "python3"
  },
  "language_info": {
   "codemirror_mode": {
    "name": "ipython",
    "version": 3
   },
   "file_extension": ".py",
   "mimetype": "text/x-python",
   "name": "python",
   "nbconvert_exporter": "python",
   "pygments_lexer": "ipython3",
   "version": "3.11.4"
  }
 },
 "nbformat": 4,
 "nbformat_minor": 5
}
