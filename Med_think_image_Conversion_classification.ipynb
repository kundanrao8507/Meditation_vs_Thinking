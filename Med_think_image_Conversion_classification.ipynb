{
 "cells": [
  {
   "cell_type": "code",
   "execution_count": 1,
   "id": "7e72648e",
   "metadata": {},
   "outputs": [],
   "source": [
    "%%capture\n",
    "import mne\n",
    "import numpy as np\n",
    "import matplotlib.pyplot as plt\n",
    "import tensorflow as tf\n",
    "from tensorflow.keras.models import Sequential\n",
    "from tensorflow.keras.layers import Conv2D, MaxPooling2D, Flatten, Dense, Dropout\n",
    "from sklearn.model_selection import train_test_split\n",
    "import os\n",
    "import pandas as pd\n",
    "from PIL import Image\n",
    "from sklearn.model_selection import train_test_split\n",
    "from sklearn.ensemble import RandomForestClassifier\n",
    "from sklearn.metrics import classification_report\n",
    "from scipy.signal import welch\n"
   ]
  },
  {
   "cell_type": "code",
   "execution_count": 2,
   "id": "806c13f6",
   "metadata": {},
   "outputs": [],
   "source": [
    "%%capture\n",
    "#Convert to DataFrame\n",
    "def convert_bdf_to_dataframe(bdf_filename):\n",
    "    raw_data = mne.io.read_raw_bdf(bdf_filename, preload=True)\n",
    "    eeg_data_raw = raw_data.get_data()\n",
    "    channel_names = raw_data.ch_names\n",
    "    time_index = raw_data.times\n",
    "    eeg_data = pd.DataFrame(data=eeg_data_raw.T, columns=channel_names, index=time_index)\n",
    "    col_names = ['O1', 'O2', 'F3', 'F4', 'C3' ,'C4' , 'Fp1', 'Fp2']\n",
    "    eeg_data = eeg_data[col_names]\n",
    "    segment_size = 1024\n",
    "    num_segments = len(eeg_data) // segment_size\n",
    "    reduced_df = pd.DataFrame(columns=eeg_data.columns)\n",
    "    for i in range(num_segments):\n",
    "        start_idx = i * segment_size\n",
    "        end_idx = (i + 1) * segment_size\n",
    "        segment_data = eeg_data.iloc[start_idx:end_idx]    \n",
    "        mean_values = segment_data.mean()\n",
    "        reduced_df = reduced_df.append(mean_values, ignore_index=True)\n",
    "\n",
    "    return reduced_df"
   ]
  },
  {
   "cell_type": "code",
   "execution_count": 3,
   "id": "415ff059",
   "metadata": {},
   "outputs": [],
   "source": [
    "%%capture\n",
    "# Define a function to extract labels from filenames\n",
    "def extract_label_from_filename(filename):\n",
    "    # Assuming filenames are in the format: subject_task.bdf\n",
    "    task = filename.split('_')[1].split('.')[0]\n",
    "    sub = filename.split('_')[0]\n",
    "    return task, sub"
   ]
  },
  {
   "cell_type": "code",
   "execution_count": 7,
   "id": "90303637",
   "metadata": {},
   "outputs": [],
   "source": [
    "# Example code to create a spectrogram image from each EEG channel\n",
    "def eeg_channel_to_spectrogram(channel_data, ch_idx):\n",
    "    plt.specgram(channel_data, NFFT=256, Fs=1000, noverlap=128)\n",
    "    plt.axis('off')  # Turn off axis\n",
    "#     plt.savefig(f'{ch_idx}_channel_spectrogram.png', bbox_inches='tight', pad_inches=0)\n",
    "    plt.close()\n",
    "    image = Image.open(f'{ch_idx}_channel_spectrogram.png')\n",
    "    path = f'{ch_idx}_channel_spectrogram.png'\n",
    "    return image, path"
   ]
  },
  {
   "cell_type": "code",
   "execution_count": 13,
   "id": "5101b8a6",
   "metadata": {},
   "outputs": [],
   "source": [
    "%%capture\n",
    "from PIL import Image\n",
    "# Load and preprocess the data\n",
    "data_dir = './Dset'  # Replace with the path to your .bdf data directory\n",
    "eeg_channel_images = []\n",
    "\n",
    "subject_data = {}\n",
    "\n",
    "output_dir = './output_images'\n",
    "Med1_dir = './output_images/med1breathe'\n",
    "MedN_dir = './output_images/medNormal'\n",
    "think1_dir = './output_images/think1'\n",
    "think2_dir = './output_images/think2'\n",
    "dirs = [thin2_dir, think1_dir, MedN_dir, output_dir, Med1_dir]\n",
    "for i in dirs:\n",
    "    os.makedirs(i, exist_ok=True)\n",
    "\n",
    "# Loop through all files in the directory\n",
    "for filename in os.listdir(data_dir):\n",
    "    if filename.endswith('.bdf'):\n",
    "        # Convert the .bdf file to a DataFrame\n",
    "        eeg_data = convert_bdf_to_dataframe(os.path.join(data_dir, filename))\n",
    "        \n",
    "        # Extract labels from filenames\n",
    "        label, sub = extract_label_from_filename(filename)\n",
    "        \n",
    "        if sub not in subject_data:\n",
    "            subject_data[sub] = []\n",
    "            \n",
    "        for channel_idx in range(eeg_data.shape[1]):\n",
    "            channel_data = eeg_data.iloc[:,channel_idx]\n",
    "            channel_image, path = eeg_channel_to_spectrogram(channel_data, eeg_data.columns[channel_idx])\n",
    "            image_filename = f'{sub}_{label}_{path}'\n",
    "            if label == 'med1breath':\n",
    "                image_path = os.path.join(Med1_dir, image_filename)\n",
    "                channel_image.save(image_path)\n",
    "                eeg_channel_images.append(image_filename)\n",
    "            elif label == 'medNormal':\n",
    "                image_path = os.path.join(MedN_dir, image_filename)\n",
    "                channel_image.save(image_path)\n",
    "                eeg_channel_images.append(image_filename)\n",
    "            elif label == 'think1':\n",
    "                image_path = os.path.join(think1_dir, image_filename)\n",
    "                channel_image.save(image_path)\n",
    "                eeg_channel_images.append(image_filename)\n",
    "            else:\n",
    "                image_path = os.path.join(think2_dir, image_filename)\n",
    "                channel_image.save(image_path)\n",
    "                eeg_channel_images.append(image_filename)\n",
    "                \n",
    "            subject_data[sub].append(channel_data)\n",
    "            "
   ]
  },
  {
   "cell_type": "code",
   "execution_count": 9,
   "id": "6afeb85b",
   "metadata": {},
   "outputs": [
    {
     "data": {
      "text/plain": [
       "64"
      ]
     },
     "execution_count": 9,
     "metadata": {},
     "output_type": "execute_result"
    }
   ],
   "source": [
    "len(eeg_channel_images)"
   ]
  }
 ],
 "metadata": {
  "kernelspec": {
   "display_name": "Python 3 (ipykernel)",
   "language": "python",
   "name": "python3"
  },
  "language_info": {
   "codemirror_mode": {
    "name": "ipython",
    "version": 3
   },
   "file_extension": ".py",
   "mimetype": "text/x-python",
   "name": "python",
   "nbconvert_exporter": "python",
   "pygments_lexer": "ipython3",
   "version": "3.9.13"
  }
 },
 "nbformat": 4,
 "nbformat_minor": 5
}
