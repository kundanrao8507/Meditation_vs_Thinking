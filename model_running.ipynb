{
 "cells": [
  {
   "cell_type": "code",
   "execution_count": 1,
   "id": "d17b8ec5",
   "metadata": {},
   "outputs": [],
   "source": [
    "# NUM_CLASSES = 2\n",
    "\n",
    "# # Fixed for Cats & Dogs color images\n",
    "# CHANNELS = 3\n",
    "\n",
    "# IMAGE_RESIZE = 256\n",
    "# RESNET50_POOLING_AVERAGE = 'avg'\n",
    "# DENSE_LAYER_ACTIVATION = 'softmax'\n",
    "# OBJECTIVE_FUNCTION = 'categorical_crossentropy'\n",
    "\n",
    "# # Common accuracy metric for all outputs, but can use different metrics for different output\n",
    "# LOSS_METRICS = ['accuracy']\n",
    "\n",
    "# # EARLY_STOP_PATIENCE must be < NUM_EPOCHS\n",
    "# NUM_EPOCHS = 100\n",
    "# EARLY_STOP_PATIENCE = 10\n",
    "\n",
    "# STEPS_PER_EPOCH_TRAINING = 10\n",
    "# STEPS_PER_EPOCH_VALIDATION = 10\n",
    "\n",
    "# # These steps value should be proper FACTOR of no.-of-images in train & valid folders respectively\n",
    "# # NOTE that these BATCH* are for Keras ImageDataGenerator batching to fill epoch step input\n",
    "# BATCH_SIZE_TRAINING = 100\n",
    "# BATCH_SIZE_VALIDATION = 100\n",
    "\n",
    "# # Using 1 to easily manage mapping between test_generator & prediction for submission preparation\n",
    "# BATCH_SIZE_TESTING = 1\n",
    "\n",
    "\n",
    "\n",
    "# from tensorflow.keras.applications import ResNet50\n",
    "# from tensorflow.keras.models import Sequential\n",
    "# from tensorflow.keras.layers import Dense\n",
    "\n",
    "# #resnet_weights_path =  r\"D:\\ML\\ML-codes\\resnet50_weights_.h5\"\n",
    "# model = Sequential()\n",
    "\n",
    "# # 1st layer as the lumpsum weights from resnet50_weights_tf_dim_ordering_tf_kernels_notop.h5\n",
    "# # NOTE that this layer will be set below as NOT TRAINABLE, i.e., use it as is\n",
    "# model.add(ResNet50(include_top = False, pooling = RESNET50_POOLING_AVERAGE, weights = 'imagenet',input_shape=(256,256,3)))\n",
    "\n",
    "# # 2nd layer as Dense for 2-class classification, i.e., dog or cat using SoftMax activation\n",
    "# model.add(Dense(NUM_CLASSES, activation = DENSE_LAYER_ACTIVATION))\n",
    "\n",
    "# # Say not to train first layer (ResNet) model as it is already trained\n",
    "# model.layers[0].trainable = False\n",
    "\n",
    "\n",
    "\n",
    "\n",
    "# from tensorflow.keras import optimizers\n",
    "\n",
    "# sgd = optimizers.SGD(learning_rate = 0.01,  momentum = 0.9, nesterov = True)\n",
    "# model.compile(optimizer = sgd, loss = OBJECTIVE_FUNCTION, metrics = LOSS_METRICS)\n",
    "\n",
    "\n",
    "\n",
    "# from tensorflow.keras.callbacks import EarlyStopping, ModelCheckpoint\n",
    "\n",
    "# cb_early_stopper = EarlyStopping(monitor = 'val_loss', patience = EARLY_STOP_PATIENCE)\n",
    "# cb_checkpointer = ModelCheckpoint(filepath = r'/workspace/resnet50.hdf5', monitor = 'val_loss', save_best_only = True, mode = 'auto')\n",
    "\n",
    "\n",
    "# fit_history = model.fit_generator(\n",
    "#         train_generator,\n",
    "#         steps_per_epoch=STEPS_PER_EPOCH_TRAINING,\n",
    "#         epochs = NUM_EPOCHS,\n",
    "#         validation_data=val_generator,\n",
    "#         validation_steps=STEPS_PER_EPOCH_VALIDATION,\n",
    "#         callbacks=[cb_checkpointer, cb_early_stopper]\n",
    "# )"
   ]
  },
  {
   "cell_type": "code",
   "execution_count": 2,
   "id": "3327053e",
   "metadata": {},
   "outputs": [],
   "source": [
    "import numpy as np\n",
    "import matplotlib.pyplot as plt\n",
    "import tensorflow as tf\n",
    "import \n",
    "import keras\n",
    "from keras.layers import *\n",
    "from keras.layers import *\n",
    "from keras.preprocessing import image"
   ]
  },
  {
   "cell_type": "code",
   "execution_count": 3,
   "id": "1be9c43b",
   "metadata": {},
   "outputs": [
    {
     "name": "stdout",
     "output_type": "stream",
     "text": [
      "No GPU(s) found. Using CPU.\n"
     ]
    }
   ],
   "source": [
    "# gpus = tf.config.experimental.list_physical_devices('GPU')\n",
    "\n",
    "# if gpus:\n",
    "#     tf.config.experimental.set_visible_devices(gpus[0], 'GPU')\n",
    "#     logical_gpus = tf.config.experimental.list_logical_devices('GPU')\n",
    "#     print(f\"Found {len(gpus)} GPU(s) and {len(logical_gpus)} logical GPU(s).\")\n",
    "# else:\n",
    "#     print(\"No GPU(s) found. Using CPU.\")"
   ]
  },
  {
   "cell_type": "code",
   "execution_count": 4,
   "id": "6b667bce",
   "metadata": {},
   "outputs": [],
   "source": [
    "model = keras.Sequential()\n",
    "\n",
    "model.add(Conv2D(32, kernel_size=(3,3), activation= 'relu', input_shape=(224,224,3)))\n",
    "model.add(Conv2D (64, (3,3), activation= 'relu'))\n",
    "model.add(MaxPooling2D(pool_size=(2,2)))\n",
    "\n",
    "model.add(Dropout (0.1))\n",
    "\n",
    "model.add(Conv2D(64, (3,3), activation= 'relu'))\n",
    "model.add(MaxPooling2D (pool_size=(2,2)))\n",
    "model.add(Dropout (0.1))\n",
    "\n",
    "model.add(Conv2D (128, (3,3), activation= 'relu'))\n",
    "model.add(MaxPooling2D (pool_size=(2,2)))\n",
    "model.add(Dropout (0.1))\n",
    "\n",
    "model.add(Flatten())\n",
    "\n",
    "model.add(Dense (64, activation='relu'))\n",
    "model.add(Dropout (0.5))\n",
    "model.add(Dense (2, activation='softmax'))\n",
    "\n",
    "model.compile(loss=\"binary_crossentropy\", optimizer=keras.optimizers.Adam(learning_rate=1e-5), metrics=['accuracy'])"
   ]
  },
  {
   "cell_type": "code",
   "execution_count": 5,
   "id": "6879d2d1",
   "metadata": {},
   "outputs": [
    {
     "name": "stdout",
     "output_type": "stream",
     "text": [
      "Model: \"sequential\"\n",
      "_________________________________________________________________\n",
      " Layer (type)                Output Shape              Param #   \n",
      "=================================================================\n",
      " conv2d (Conv2D)             (None, 222, 222, 32)      896       \n",
      "                                                                 \n",
      " conv2d_1 (Conv2D)           (None, 220, 220, 64)      18496     \n",
      "                                                                 \n",
      " max_pooling2d (MaxPooling2D  (None, 110, 110, 64)     0         \n",
      " )                                                               \n",
      "                                                                 \n",
      " dropout (Dropout)           (None, 110, 110, 64)      0         \n",
      "                                                                 \n",
      " conv2d_2 (Conv2D)           (None, 108, 108, 64)      36928     \n",
      "                                                                 \n",
      " max_pooling2d_1 (MaxPooling  (None, 54, 54, 64)       0         \n",
      " 2D)                                                             \n",
      "                                                                 \n",
      " dropout_1 (Dropout)         (None, 54, 54, 64)        0         \n",
      "                                                                 \n",
      " conv2d_3 (Conv2D)           (None, 52, 52, 128)       73856     \n",
      "                                                                 \n",
      " max_pooling2d_2 (MaxPooling  (None, 26, 26, 128)      0         \n",
      " 2D)                                                             \n",
      "                                                                 \n",
      " dropout_2 (Dropout)         (None, 26, 26, 128)       0         \n",
      "                                                                 \n",
      " flatten (Flatten)           (None, 86528)             0         \n",
      "                                                                 \n",
      " dense (Dense)               (None, 64)                5537856   \n",
      "                                                                 \n",
      " dropout_3 (Dropout)         (None, 64)                0         \n",
      "                                                                 \n",
      " dense_1 (Dense)             (None, 2)                 130       \n",
      "                                                                 \n",
      "=================================================================\n",
      "Total params: 5,668,162\n",
      "Trainable params: 5,668,162\n",
      "Non-trainable params: 0\n",
      "_________________________________________________________________\n"
     ]
    }
   ],
   "source": [
    "model.summary()"
   ]
  },
  {
   "cell_type": "code",
   "execution_count": 6,
   "id": "9321a32b",
   "metadata": {},
   "outputs": [],
   "source": [
    "train_datagen = image.ImageDataGenerator(\n",
    "    rescale=1.0 / 255,\n",
    "    rotation_range=20,\n",
    "    width_shift_range=0.2,\n",
    "    height_shift_range=0.2,\n",
    "    shear_range=0.2,\n",
    "    zoom_range=0.2,\n",
    "    horizontal_flip=True,\n",
    "    fill_mode='nearest'\n",
    ")\n",
    "\n",
    "test_datagen = image.ImageDataGenerator(\n",
    "    rescale=1.0 / 255,\n",
    "    rotation_range=20,\n",
    "    width_shift_range=0.2,\n",
    "    height_shift_range=0.2,\n",
    "    shear_range=0.2,\n",
    "    zoom_range=0.2,\n",
    "    horizontal_flip=True,\n",
    "    fill_mode='nearest'\n",
    ")\n",
    "\n",
    "val_datagen = image.ImageDataGenerator(\n",
    "    rescale=1.0 / 255,\n",
    "    rotation_range=20,\n",
    "    width_shift_range=0.2,\n",
    "    height_shift_range=0.2,\n",
    "    shear_range=0.2,\n",
    "    zoom_range=0.2,\n",
    "    horizontal_flip=True,\n",
    "    fill_mode='nearest'\n",
    ")\n",
    "\n",
    "train_dir = '../train_test_val_split_images/train/'\n",
    "test_dir = '../train_test_val_split_images/test/'\n",
    "val_dir = '../train_test_val_split_images/validation/'\n",
    "\n",
    "image_size = (224, 224)\n",
    "batch_size = 32"
   ]
  },
  {
   "cell_type": "code",
   "execution_count": 7,
   "id": "7b9a5136",
   "metadata": {},
   "outputs": [
    {
     "name": "stdout",
     "output_type": "stream",
     "text": [
      "Found 64 images belonging to 2 classes.\n",
      "Found 16 images belonging to 2 classes.\n",
      "Found 16 images belonging to 2 classes.\n"
     ]
    }
   ],
   "source": [
    "train_generator = train_datagen.flow_from_directory(\n",
    "    train_dir,\n",
    "    target_size=image_size,\n",
    "    batch_size=batch_size,\n",
    "    class_mode='categorical'\n",
    ")\n",
    "\n",
    "test_generator = test_datagen.flow_from_directory(\n",
    "    test_dir,\n",
    "    target_size=image_size,\n",
    "    batch_size=batch_size,\n",
    "    class_mode='categorical'\n",
    ")\n",
    "\n",
    "val_generator = val_datagen.flow_from_directory(\n",
    "    val_dir,\n",
    "    target_size=image_size,\n",
    "    batch_size=batch_size,\n",
    "    class_mode='categorical'\n",
    ")"
   ]
  },
  {
   "cell_type": "code",
   "execution_count": 8,
   "id": "1ca4f37b",
   "metadata": {},
   "outputs": [
    {
     "name": "stdout",
     "output_type": "stream",
     "text": [
      "Train classes:  {'Meditation': 0, 'Thinking': 1}\n",
      "Test classes:  {'Meditation': 0, 'Thinking': 1}\n",
      "Validation classes:  {'Meditation': 0, 'Thinking': 1}\n"
     ]
    }
   ],
   "source": [
    "print(\"Train classes: \", train_generator.class_indices)\n",
    "print(\"Test classes: \", test_generator.class_indices)\n",
    "print(\"Validation classes: \", val_generator.class_indices)"
   ]
  },
  {
   "cell_type": "code",
   "execution_count": 9,
   "id": "71742d56",
   "metadata": {},
   "outputs": [
    {
     "name": "stdout",
     "output_type": "stream",
     "text": [
      "Epoch 1/10\n",
      "2/8 [======>.......................] - ETA: 9s - loss: 0.6967 - accuracy: 0.4844 WARNING:tensorflow:Your input ran out of data; interrupting training. Make sure that your dataset or generator can generate at least `steps_per_epoch * epochs` batches (in this case, 80 batches). You may need to use the repeat() function when building your dataset.\n",
      "WARNING:tensorflow:Your input ran out of data; interrupting training. Make sure that your dataset or generator can generate at least `steps_per_epoch * epochs` batches (in this case, 4 batches). You may need to use the repeat() function when building your dataset.\n",
      "8/8 [==============================] - 7s 592ms/step - loss: 0.6967 - accuracy: 0.4844 - val_loss: 0.6923 - val_accuracy: 0.5000\n"
     ]
    }
   ],
   "source": [
    "running_model = model.fit(\n",
    "    train_generator,\n",
    "    steps_per_epoch = 8,\n",
    "    epochs = 10,\n",
    "    validation_data = val_generator,\n",
    "    validation_steps = 4\n",
    ")"
   ]
  },
  {
   "cell_type": "code",
   "execution_count": null,
   "id": "7ed1170a",
   "metadata": {},
   "outputs": [],
   "source": []
  }
 ],
 "metadata": {
  "kernelspec": {
   "display_name": "Python (py3tf2)",
   "language": "python",
   "name": "py3tf2"
  },
  "language_info": {
   "codemirror_mode": {
    "name": "ipython",
    "version": 3
   },
   "file_extension": ".py",
   "mimetype": "text/x-python",
   "name": "python",
   "nbconvert_exporter": "python",
   "pygments_lexer": "ipython3",
   "version": "3.10.6"
  }
 },
 "nbformat": 4,
 "nbformat_minor": 5
}
